{
 "cells": [
  {
   "cell_type": "code",
   "execution_count": 54,
   "id": "e326fd2d",
   "metadata": {},
   "outputs": [],
   "source": [
    "import pandas as pd\n",
    "from matplotlib import pyplot as plt\n",
    "import seaborn as sns\n",
    "import xgboost as xgb\n",
    "import numpy as np\n",
    "from sklearn.model_selection import train_test_split\n",
    "from sklearn.feature_extraction import DictVectorizer\n",
    "from sklearn.tree import DecisionTreeRegressor, export_text\n",
    "from sklearn.ensemble import RandomForestRegressor\n",
    "from sklearn.metrics import mean_squared_error"
   ]
  },
  {
   "cell_type": "code",
   "execution_count": 2,
   "id": "5db5ef2d",
   "metadata": {},
   "outputs": [
    {
     "name": "stdout",
     "output_type": "stream",
     "text": [
      "  % Total    % Received % Xferd  Average Speed   Time    Time     Time  Current\n",
      "                                 Dload  Upload   Total   Spent    Left  Speed\n",
      "100 1390k  100 1390k    0     0  2   0      0 --:--:-- --:--:-- --:--:--     0860k      0 --:--:-- --:--:-- --:--:-- 2860k\n"
     ]
    }
   ],
   "source": [
    "!curl https://raw.githubusercontent.com/alexeygrigorev/datasets/master/housing.csv -o housing.csv"
   ]
  },
  {
   "cell_type": "code",
   "execution_count": 27,
   "id": "2d14ede3",
   "metadata": {},
   "outputs": [
    {
     "data": {
      "text/html": [
       "<div>\n",
       "<style scoped>\n",
       "    .dataframe tbody tr th:only-of-type {\n",
       "        vertical-align: middle;\n",
       "    }\n",
       "\n",
       "    .dataframe tbody tr th {\n",
       "        vertical-align: top;\n",
       "    }\n",
       "\n",
       "    .dataframe thead th {\n",
       "        text-align: right;\n",
       "    }\n",
       "</style>\n",
       "<table border=\"1\" class=\"dataframe\">\n",
       "  <thead>\n",
       "    <tr style=\"text-align: right;\">\n",
       "      <th></th>\n",
       "      <th>longitude</th>\n",
       "      <th>latitude</th>\n",
       "      <th>housing_median_age</th>\n",
       "      <th>total_rooms</th>\n",
       "      <th>total_bedrooms</th>\n",
       "      <th>population</th>\n",
       "      <th>households</th>\n",
       "      <th>median_income</th>\n",
       "      <th>median_house_value</th>\n",
       "      <th>ocean_proximity</th>\n",
       "    </tr>\n",
       "  </thead>\n",
       "  <tbody>\n",
       "    <tr>\n",
       "      <th>0</th>\n",
       "      <td>-122.23</td>\n",
       "      <td>37.88</td>\n",
       "      <td>41.0</td>\n",
       "      <td>880.0</td>\n",
       "      <td>129.0</td>\n",
       "      <td>322.0</td>\n",
       "      <td>126.0</td>\n",
       "      <td>8.3252</td>\n",
       "      <td>452600.0</td>\n",
       "      <td>NEAR BAY</td>\n",
       "    </tr>\n",
       "    <tr>\n",
       "      <th>1</th>\n",
       "      <td>-122.22</td>\n",
       "      <td>37.86</td>\n",
       "      <td>21.0</td>\n",
       "      <td>7099.0</td>\n",
       "      <td>1106.0</td>\n",
       "      <td>2401.0</td>\n",
       "      <td>1138.0</td>\n",
       "      <td>8.3014</td>\n",
       "      <td>358500.0</td>\n",
       "      <td>NEAR BAY</td>\n",
       "    </tr>\n",
       "    <tr>\n",
       "      <th>2</th>\n",
       "      <td>-122.24</td>\n",
       "      <td>37.85</td>\n",
       "      <td>52.0</td>\n",
       "      <td>1467.0</td>\n",
       "      <td>190.0</td>\n",
       "      <td>496.0</td>\n",
       "      <td>177.0</td>\n",
       "      <td>7.2574</td>\n",
       "      <td>352100.0</td>\n",
       "      <td>NEAR BAY</td>\n",
       "    </tr>\n",
       "    <tr>\n",
       "      <th>3</th>\n",
       "      <td>-122.25</td>\n",
       "      <td>37.85</td>\n",
       "      <td>52.0</td>\n",
       "      <td>1274.0</td>\n",
       "      <td>235.0</td>\n",
       "      <td>558.0</td>\n",
       "      <td>219.0</td>\n",
       "      <td>5.6431</td>\n",
       "      <td>341300.0</td>\n",
       "      <td>NEAR BAY</td>\n",
       "    </tr>\n",
       "    <tr>\n",
       "      <th>4</th>\n",
       "      <td>-122.25</td>\n",
       "      <td>37.85</td>\n",
       "      <td>52.0</td>\n",
       "      <td>1627.0</td>\n",
       "      <td>280.0</td>\n",
       "      <td>565.0</td>\n",
       "      <td>259.0</td>\n",
       "      <td>3.8462</td>\n",
       "      <td>342200.0</td>\n",
       "      <td>NEAR BAY</td>\n",
       "    </tr>\n",
       "  </tbody>\n",
       "</table>\n",
       "</div>"
      ],
      "text/plain": [
       "   longitude  latitude  housing_median_age  total_rooms  total_bedrooms  \\\n",
       "0    -122.23     37.88                41.0        880.0           129.0   \n",
       "1    -122.22     37.86                21.0       7099.0          1106.0   \n",
       "2    -122.24     37.85                52.0       1467.0           190.0   \n",
       "3    -122.25     37.85                52.0       1274.0           235.0   \n",
       "4    -122.25     37.85                52.0       1627.0           280.0   \n",
       "\n",
       "   population  households  median_income  median_house_value ocean_proximity  \n",
       "0       322.0       126.0         8.3252            452600.0        NEAR BAY  \n",
       "1      2401.0      1138.0         8.3014            358500.0        NEAR BAY  \n",
       "2       496.0       177.0         7.2574            352100.0        NEAR BAY  \n",
       "3       558.0       219.0         5.6431            341300.0        NEAR BAY  \n",
       "4       565.0       259.0         3.8462            342200.0        NEAR BAY  "
      ]
     },
     "execution_count": 27,
     "metadata": {},
     "output_type": "execute_result"
    }
   ],
   "source": [
    "df = pd.read_csv(\"housing.csv\")\n",
    "df.head()"
   ]
  },
  {
   "cell_type": "code",
   "execution_count": 28,
   "id": "401cb0fb",
   "metadata": {},
   "outputs": [
    {
     "name": "stdout",
     "output_type": "stream",
     "text": [
      "['total_bedrooms']\n"
     ]
    }
   ],
   "source": [
    "selected_cols = ['latitude',\n",
    "                 'longitude',\n",
    "                 'housing_median_age',\n",
    "                 'total_rooms',\n",
    "                 'total_bedrooms',\n",
    "                 'population',\n",
    "                 'households',\n",
    "                 'median_income',\n",
    "                 'median_house_value',\n",
    "                 'ocean_proximity'\n",
    "                ]\n",
    "columns_with_na = df.columns[df.isnull().sum()>0].values\n",
    "print(columns_with_na)\n",
    "for col in columns_with_na:\n",
    "    df[col] = df[col].fillna(0)"
   ]
  },
  {
   "cell_type": "code",
   "execution_count": 29,
   "id": "63e963d2",
   "metadata": {},
   "outputs": [
    {
     "data": {
      "text/plain": [
       "longitude             0\n",
       "latitude              0\n",
       "housing_median_age    0\n",
       "total_rooms           0\n",
       "total_bedrooms        0\n",
       "population            0\n",
       "households            0\n",
       "median_income         0\n",
       "median_house_value    0\n",
       "ocean_proximity       0\n",
       "dtype: int64"
      ]
     },
     "execution_count": 29,
     "metadata": {},
     "output_type": "execute_result"
    }
   ],
   "source": [
    "df.isnull().sum()"
   ]
  },
  {
   "cell_type": "code",
   "execution_count": 30,
   "id": "bd572918",
   "metadata": {
    "scrolled": true
   },
   "outputs": [],
   "source": [
    "df['median_house_value'] = np.log1p(df['median_house_value'])"
   ]
  },
  {
   "cell_type": "code",
   "execution_count": 31,
   "id": "ac5adc8e",
   "metadata": {},
   "outputs": [],
   "source": [
    "y = df.pop('median_house_value')"
   ]
  },
  {
   "cell_type": "code",
   "execution_count": 32,
   "id": "beb2ed6a",
   "metadata": {},
   "outputs": [],
   "source": [
    "df_train_val, df_test, y_train_val, y_test = train_test_split(df, y, test_size=0.2, random_state=1)\n",
    "df_train, df_val, y_train, y_val = train_test_split(df_train_val, y_train_val, test_size=0.25, random_state=1)"
   ]
  },
  {
   "cell_type": "code",
   "execution_count": 35,
   "id": "1743066c",
   "metadata": {},
   "outputs": [],
   "source": [
    "dv = DictVectorizer(sparse=False)\n",
    "dict_train = df_train.to_dict(orient=\"records\")\n",
    "dv.fit(dict_train)\n",
    "X_train = dv.transform(dict_train)\n",
    "dict_val = df_val.to_dict(orient=\"records\")\n",
    "X_val = dv.transform(dict_val)"
   ]
  },
  {
   "cell_type": "code",
   "execution_count": 51,
   "id": "d5c30058",
   "metadata": {},
   "outputs": [
    {
     "name": "stdout",
     "output_type": "stream",
     "text": [
      "|--- ocean_proximity=INLAND <= 0.50\n",
      "|   |--- value: [12.31]\n",
      "|--- ocean_proximity=INLAND >  0.50\n",
      "|   |--- value: [11.61]\n",
      "\n"
     ]
    },
    {
     "name": "stderr",
     "output_type": "stream",
     "text": [
      "/opt/anaconda3/envs/mlzoomcamp/lib/python3.10/site-packages/sklearn/utils/deprecation.py:87: FutureWarning: Function get_feature_names is deprecated; get_feature_names is deprecated in 1.0 and will be removed in 1.2. Please use get_feature_names_out instead.\n",
      "  warnings.warn(msg, category=FutureWarning)\n"
     ]
    }
   ],
   "source": [
    "'''\n",
    "Question 1\n",
    "\n",
    "Let's train a decision tree regressor to predict the median_house_value variable.\n",
    "\n",
    "    Train a model with max_depth=1.\n",
    "\n",
    "Which feature is used for splitting the data?\n",
    "\n",
    "    ocean_proximity=INLAND\n",
    "    total_rooms\n",
    "    latitude\n",
    "    population\n",
    "'''\n",
    "model = DecisionTreeRegressor(max_depth=1)\n",
    "model.fit(X_train, y_train)\n",
    "tree_text = export_text(model, feature_names=dv.get_feature_names())\n",
    "print(tree_text)"
   ]
  },
  {
   "cell_type": "code",
   "execution_count": 58,
   "id": "c3ee8a76",
   "metadata": {},
   "outputs": [
    {
     "name": "stdout",
     "output_type": "stream",
     "text": [
      "0.060413676586540316\n",
      "0.25\n"
     ]
    }
   ],
   "source": [
    "'''\n",
    "Question 2\n",
    "\n",
    "Train a random forest model with these parameters:\n",
    "\n",
    "    n_estimators=10\n",
    "    random_state=1\n",
    "    n_jobs=-1 (optional - to make training faster)\n",
    "\n",
    "What's the RMSE of this model on validation?\n",
    "\n",
    "    0.05\n",
    "    0.25\n",
    "    0.55\n",
    "    0.85\n",
    "'''\n",
    "model = RandomForestRegressor(n_estimators=10, n_jobs=-1, random_state=1)\n",
    "model.fit(X_train, y_train)\n",
    "y_val_pred = model.predict(X_val)\n",
    "print(mean_squared_error(y_val_pred, y_val))\n",
    "\n",
    "def rmse(predictions, targets):\n",
    "    return np.sqrt(((predictions - targets) ** 2).mean())\n",
    "\n",
    "print(round(rmse(y_val_pred, y_val.values),2))"
   ]
  },
  {
   "cell_type": "code",
   "execution_count": 63,
   "id": "09b026dc",
   "metadata": {},
   "outputs": [
    {
     "data": {
      "text/plain": [
       "([<matplotlib.axis.XTick at 0x7fbd4c0140a0>,\n",
       "  <matplotlib.axis.XTick at 0x7fbd4c014070>,\n",
       "  <matplotlib.axis.XTick at 0x7fbd4bffff10>,\n",
       "  <matplotlib.axis.XTick at 0x7fbd33542860>,\n",
       "  <matplotlib.axis.XTick at 0x7fbd33542fb0>,\n",
       "  <matplotlib.axis.XTick at 0x7fbd33543700>,\n",
       "  <matplotlib.axis.XTick at 0x7fbd33543e50>,\n",
       "  <matplotlib.axis.XTick at 0x7fbd3355c5e0>,\n",
       "  <matplotlib.axis.XTick at 0x7fbd33543970>,\n",
       "  <matplotlib.axis.XTick at 0x7fbd335425c0>,\n",
       "  <matplotlib.axis.XTick at 0x7fbd3355cdc0>,\n",
       "  <matplotlib.axis.XTick at 0x7fbd3355d510>,\n",
       "  <matplotlib.axis.XTick at 0x7fbd3355dc60>,\n",
       "  <matplotlib.axis.XTick at 0x7fbd3355e3b0>,\n",
       "  <matplotlib.axis.XTick at 0x7fbd3355eb00>,\n",
       "  <matplotlib.axis.XTick at 0x7fbd3355ead0>,\n",
       "  <matplotlib.axis.XTick at 0x7fbd3355d8a0>,\n",
       "  <matplotlib.axis.XTick at 0x7fbd3355eef0>,\n",
       "  <matplotlib.axis.XTick at 0x7fbd3355f640>,\n",
       "  <matplotlib.axis.XTick at 0x7fbd3355fd90>],\n",
       " [Text(0, 0, '10'),\n",
       "  Text(1, 0, '20'),\n",
       "  Text(2, 0, '30'),\n",
       "  Text(3, 0, '40'),\n",
       "  Text(4, 0, '50'),\n",
       "  Text(5, 0, '60'),\n",
       "  Text(6, 0, '70'),\n",
       "  Text(7, 0, '80'),\n",
       "  Text(8, 0, '90'),\n",
       "  Text(9, 0, '100'),\n",
       "  Text(10, 0, '110'),\n",
       "  Text(11, 0, '120'),\n",
       "  Text(12, 0, '130'),\n",
       "  Text(13, 0, '140'),\n",
       "  Text(14, 0, '150'),\n",
       "  Text(15, 0, '160'),\n",
       "  Text(16, 0, '170'),\n",
       "  Text(17, 0, '180'),\n",
       "  Text(18, 0, '190'),\n",
       "  Text(19, 0, '200')])"
      ]
     },
     "execution_count": 63,
     "metadata": {},
     "output_type": "execute_result"
    },
    {
     "data": {
      "image/png": "[encoded data removed]",
      "text/plain": [
       "<Figure size 640x480 with 1 Axes>"
      ]
     },
     "metadata": {},
     "output_type": "display_data"
    }
   ],
   "source": [
    "'''\n",
    "Question 3\n",
    "\n",
    "Now let's experiment with the n_estimators parameter\n",
    "\n",
    "    Try different values of this parameter from 10 to 200 with step 10.\n",
    "    Set random_state to 1.\n",
    "    Evaluate the model on the validation dataset.\n",
    "\n",
    "After which value of n_estimators does RMSE stop improving?\n",
    "\n",
    "    10\n",
    "    50\n",
    "    70\n",
    "    150\n",
    "\n",
    "'''\n",
    "\n",
    "rmse_list = []\n",
    "for n_est in range(10,210,10):\n",
    "    model = RandomForestRegressor(n_estimators=n_est, n_jobs=-1, random_state=1)\n",
    "    model.fit(X_train, y_train)\n",
    "    y_val_pred = model.predict(X_val)\n",
    "    rmse_list.append(rmse(y_val_pred, y_val.values))\n",
    "\n",
    "plt.plot(rmse_list)\n",
    "plt.xticks(ticks=range(len(list(range(10,210,10)))),labels=range(10,210,10))"
   ]
  },
  {
   "cell_type": "code",
   "execution_count": 39,
   "id": "9f5efc4d",
   "metadata": {},
   "outputs": [
    {
     "data": {
      "text/plain": [
       "\"\\nQuestion 4\\n\\nLet's select the best max_depth:\\n\\n    Try different values of max_depth: [10, 15, 20, 25]\\n    For each of these values, try different values of n_estimators from 10 till 200 (with step 10)\\n    Fix the random seed: random_state=1\\n\\nWhat's the best max_depth:\\n\\n    10\\n    15\\n    20\\n    25\\n\""
      ]
     },
     "execution_count": 39,
     "metadata": {},
     "output_type": "execute_result"
    }
   ],
   "source": [
    "'''\n",
    "Question 4\n",
    "\n",
    "Let's select the best max_depth:\n",
    "\n",
    "    Try different values of max_depth: [10, 15, 20, 25]\n",
    "    For each of these values, try different values of n_estimators from 10 till 200 (with step 10)\n",
    "    Fix the random seed: random_state=1\n",
    "\n",
    "What's the best max_depth:\n",
    "\n",
    "    10\n",
    "    15\n",
    "    20\n",
    "    25\n",
    "'''"
   ]
  },
  {
   "cell_type": "code",
   "execution_count": 40,
   "id": "f3b94dda",
   "metadata": {},
   "outputs": [
    {
     "data": {
      "text/plain": [
       "'Question 5\\n\\nWe can extract feature importance information from tree-based models.\\n\\nAt each step of the decision tree learning algorith, it finds the best split. When doint it, we can calculate \"gain\" - the reduction in impurity before and after the split. This gain is quite useful in understanding what are the imporatant features for tree-based models.\\n\\nIn Scikit-Learn, tree-based models contain this information in the feature_importances_ field.\\n\\nFor this homework question, we\\'ll find the most important feature:\\n\\n    Train the model with these parametes:\\n        n_estimators=10,\\n        max_depth=20,\\n        random_state=1,\\n        n_jobs=-1 (optional)\\n    Get the feature importance information from this model\\n\\nWhat\\'s the most important feature?\\n\\n    total_rooms\\n    median_income\\n    total_bedrooms\\n    longitude\\n'"
      ]
     },
     "execution_count": 40,
     "metadata": {},
     "output_type": "execute_result"
    }
   ],
   "source": [
    "'''Question 5\n",
    "\n",
    "We can extract feature importance information from tree-based models.\n",
    "\n",
    "At each step of the decision tree learning algorith, it finds the best split. When doint it, we can calculate \"gain\" - the reduction in impurity before and after the split. This gain is quite useful in understanding what are the imporatant features for tree-based models.\n",
    "\n",
    "In Scikit-Learn, tree-based models contain this information in the feature_importances_ field.\n",
    "\n",
    "For this homework question, we'll find the most important feature:\n",
    "\n",
    "    Train the model with these parametes:\n",
    "        n_estimators=10,\n",
    "        max_depth=20,\n",
    "        random_state=1,\n",
    "        n_jobs=-1 (optional)\n",
    "    Get the feature importance information from this model\n",
    "\n",
    "What's the most important feature?\n",
    "\n",
    "    total_rooms\n",
    "    median_income\n",
    "    total_bedrooms\n",
    "    longitude\n",
    "'''"
   ]
  },
  {
   "cell_type": "code",
   "execution_count": 41,
   "id": "e929d8f8",
   "metadata": {},
   "outputs": [
    {
     "data": {
      "text/plain": [
       "\"\\nQuestion 6\\n\\nNow let's train an XGBoost model! For this question, we'll tune the eta parameter:\\n\\n    Install XGBoost\\n    Create DMatrix for train and validation\\n    Create a watchlist\\n    Train a model with these parameters for 100 rounds:\\n\\nxgb_params = {\\n    'eta': 0.3, \\n    'max_depth': 6,\\n    'min_child_weight': 1,\\n    \\n    'objective': 'reg:squarederror',\\n    'nthread': 8,\\n    \\n    'seed': 1,\\n    'verbosity': 1,\\n}\\n\\nNow change eta from 0.3 to 0.1.\\n\\nWhich eta leads to the best RMSE score on the validation dataset?\\n\\n    0.3\\n    0.1\\n    Both gives same\\n\""
      ]
     },
     "execution_count": 41,
     "metadata": {},
     "output_type": "execute_result"
    }
   ],
   "source": [
    "'''\n",
    "Question 6\n",
    "\n",
    "Now let's train an XGBoost model! For this question, we'll tune the eta parameter:\n",
    "\n",
    "    Install XGBoost\n",
    "    Create DMatrix for train and validation\n",
    "    Create a watchlist\n",
    "    Train a model with these parameters for 100 rounds:\n",
    "\n",
    "xgb_params = {\n",
    "    'eta': 0.3, \n",
    "    'max_depth': 6,\n",
    "    'min_child_weight': 1,\n",
    "    \n",
    "    'objective': 'reg:squarederror',\n",
    "    'nthread': 8,\n",
    "    \n",
    "    'seed': 1,\n",
    "    'verbosity': 1,\n",
    "}\n",
    "\n",
    "Now change eta from 0.3 to 0.1.\n",
    "\n",
    "Which eta leads to the best RMSE score on the validation dataset?\n",
    "\n",
    "    0.3\n",
    "    0.1\n",
    "    Both gives same\n",
    "'''"
   ]
  },
  {
   "cell_type": "code",
   "execution_count": null,
   "id": "fb3a99d2",
   "metadata": {},
   "outputs": [],
   "source": []
  }
 ],
 "metadata": {
  "kernelspec": {
   "display_name": "Python 3 (ipykernel)",
   "language": "python",
   "name": "python3"
  },
  "language_info": {
   "codemirror_mode": {
    "name": "ipython",
    "version": 3
   },
   "file_extension": ".py",
   "mimetype": "text/x-python",
   "name": "python",
   "nbconvert_exporter": "python",
   "pygments_lexer": "ipython3",
   "version": "3.10.4"
  }
 },
 "nbformat": 4,
 "nbformat_minor": 5
}
