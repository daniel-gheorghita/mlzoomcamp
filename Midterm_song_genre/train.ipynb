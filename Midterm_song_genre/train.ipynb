{
 "cells": [
  {
   "cell_type": "markdown",
   "id": "2623b202",
   "metadata": {},
   "source": [
    "# Predict song genre based on audio features (Spotify dataset)"
   ]
  },
  {
   "cell_type": "code",
   "execution_count": 1,
   "id": "a33a6ff3",
   "metadata": {},
   "outputs": [],
   "source": [
    "from pathlib import Path\n",
    "import os\n",
    "import pandas as pd\n",
    "import numpy as np\n",
    "import seaborn as sns\n",
    "from matplotlib import pyplot as plt\n",
    "from sklearn.feature_selection import SelectKBest, f_classif, mutual_info_classif\n",
    "from sklearn.feature_extraction import DictVectorizer\n",
    "from sklearn.model_selection import train_test_split, KFold\n",
    "from sklearn.metrics import mutual_info_score, mean_squared_error, accuracy_score, recall_score, f1_score, roc_auc_score, roc_curve\n",
    "from sklearn.linear_model import LinearRegression, LogisticRegression\n",
    "from sklearn.tree import DecisionTreeRegressor, DecisionTreeClassifier\n",
    "from sklearn.ensemble import RandomForestRegressor, RandomForestClassifier\n",
    "import xgboost as xgb \n",
    "import bentoml"
   ]
  },
  {
   "cell_type": "markdown",
   "id": "2ee53aa6",
   "metadata": {},
   "source": [
    "# Load (small) dataset with selected columns"
   ]
  },
  {
   "cell_type": "code",
   "execution_count": 2,
   "id": "ed3127c6",
   "metadata": {
    "scrolled": false
   },
   "outputs": [
    {
     "name": "stdout",
     "output_type": "stream",
     "text": [
      "Columns:\n",
      "['popularity' 'danceability' 'energy' 'key' 'loudness' 'mode'\n",
      " 'speechiness' 'acousticness' 'instrumentalness' 'liveness' 'valence'\n",
      " 'tempo' 'category' 'time_signature' 'duration_ms']\n"
     ]
    },
    {
     "data": {
      "text/html": [
       "<div>\n",
       "<style scoped>\n",
       "    .dataframe tbody tr th:only-of-type {\n",
       "        vertical-align: middle;\n",
       "    }\n",
       "\n",
       "    .dataframe tbody tr th {\n",
       "        vertical-align: top;\n",
       "    }\n",
       "\n",
       "    .dataframe thead th {\n",
       "        text-align: right;\n",
       "    }\n",
       "</style>\n",
       "<table border=\"1\" class=\"dataframe\">\n",
       "  <thead>\n",
       "    <tr style=\"text-align: right;\">\n",
       "      <th></th>\n",
       "      <th>popularity</th>\n",
       "      <th>danceability</th>\n",
       "      <th>energy</th>\n",
       "      <th>key</th>\n",
       "      <th>loudness</th>\n",
       "      <th>mode</th>\n",
       "      <th>speechiness</th>\n",
       "      <th>acousticness</th>\n",
       "      <th>instrumentalness</th>\n",
       "      <th>liveness</th>\n",
       "      <th>valence</th>\n",
       "      <th>tempo</th>\n",
       "      <th>category</th>\n",
       "      <th>time_signature</th>\n",
       "      <th>duration_ms</th>\n",
       "    </tr>\n",
       "  </thead>\n",
       "  <tbody>\n",
       "    <tr>\n",
       "      <th>0</th>\n",
       "      <td>4</td>\n",
       "      <td>0.659</td>\n",
       "      <td>0.166</td>\n",
       "      <td>2</td>\n",
       "      <td>-14.523</td>\n",
       "      <td>0</td>\n",
       "      <td>0.0753</td>\n",
       "      <td>0.8770</td>\n",
       "      <td>0.050200</td>\n",
       "      <td>0.1010</td>\n",
       "      <td>0.345</td>\n",
       "      <td>49.320</td>\n",
       "      <td>blues</td>\n",
       "      <td>4</td>\n",
       "      <td>186973</td>\n",
       "    </tr>\n",
       "    <tr>\n",
       "      <th>1</th>\n",
       "      <td>23</td>\n",
       "      <td>0.701</td>\n",
       "      <td>0.205</td>\n",
       "      <td>3</td>\n",
       "      <td>-13.458</td>\n",
       "      <td>1</td>\n",
       "      <td>0.0582</td>\n",
       "      <td>0.9590</td>\n",
       "      <td>0.003590</td>\n",
       "      <td>0.0716</td>\n",
       "      <td>0.839</td>\n",
       "      <td>101.734</td>\n",
       "      <td>blues</td>\n",
       "      <td>4</td>\n",
       "      <td>145853</td>\n",
       "    </tr>\n",
       "    <tr>\n",
       "      <th>2</th>\n",
       "      <td>31</td>\n",
       "      <td>0.498</td>\n",
       "      <td>0.824</td>\n",
       "      <td>5</td>\n",
       "      <td>-7.832</td>\n",
       "      <td>0</td>\n",
       "      <td>0.1320</td>\n",
       "      <td>0.0641</td>\n",
       "      <td>0.000112</td>\n",
       "      <td>0.1800</td>\n",
       "      <td>0.549</td>\n",
       "      <td>157.040</td>\n",
       "      <td>blues</td>\n",
       "      <td>4</td>\n",
       "      <td>251627</td>\n",
       "    </tr>\n",
       "    <tr>\n",
       "      <th>3</th>\n",
       "      <td>40</td>\n",
       "      <td>0.584</td>\n",
       "      <td>0.370</td>\n",
       "      <td>8</td>\n",
       "      <td>-7.313</td>\n",
       "      <td>1</td>\n",
       "      <td>0.0348</td>\n",
       "      <td>0.8610</td>\n",
       "      <td>0.000011</td>\n",
       "      <td>0.1080</td>\n",
       "      <td>0.073</td>\n",
       "      <td>136.012</td>\n",
       "      <td>blues</td>\n",
       "      <td>4</td>\n",
       "      <td>296082</td>\n",
       "    </tr>\n",
       "    <tr>\n",
       "      <th>4</th>\n",
       "      <td>36</td>\n",
       "      <td>0.467</td>\n",
       "      <td>0.122</td>\n",
       "      <td>2</td>\n",
       "      <td>-22.241</td>\n",
       "      <td>1</td>\n",
       "      <td>0.0366</td>\n",
       "      <td>0.9540</td>\n",
       "      <td>0.902000</td>\n",
       "      <td>0.1320</td>\n",
       "      <td>0.411</td>\n",
       "      <td>111.256</td>\n",
       "      <td>blues</td>\n",
       "      <td>4</td>\n",
       "      <td>178333</td>\n",
       "    </tr>\n",
       "  </tbody>\n",
       "</table>\n",
       "</div>"
      ],
      "text/plain": [
       "   popularity  danceability  energy  key  loudness  mode  speechiness  \\\n",
       "0           4         0.659   0.166    2   -14.523     0       0.0753   \n",
       "1          23         0.701   0.205    3   -13.458     1       0.0582   \n",
       "2          31         0.498   0.824    5    -7.832     0       0.1320   \n",
       "3          40         0.584   0.370    8    -7.313     1       0.0348   \n",
       "4          36         0.467   0.122    2   -22.241     1       0.0366   \n",
       "\n",
       "   acousticness  instrumentalness  liveness  valence    tempo category  \\\n",
       "0        0.8770          0.050200    0.1010    0.345   49.320    blues   \n",
       "1        0.9590          0.003590    0.0716    0.839  101.734    blues   \n",
       "2        0.0641          0.000112    0.1800    0.549  157.040    blues   \n",
       "3        0.8610          0.000011    0.1080    0.073  136.012    blues   \n",
       "4        0.9540          0.902000    0.1320    0.411  111.256    blues   \n",
       "\n",
       "   time_signature  duration_ms  \n",
       "0               4       186973  \n",
       "1               4       145853  \n",
       "2               4       251627  \n",
       "3               4       296082  \n",
       "4               4       178333  "
      ]
     },
     "execution_count": 2,
     "metadata": {},
     "output_type": "execute_result"
    }
   ],
   "source": [
    "# Load and display head\n",
    "df = pd.read_csv(\"./data/spotify_songs_small.csv\")\n",
    "print(f\"Columns:\\n{df.columns.values}\")\n",
    "df.head()"
   ]
  },
  {
   "cell_type": "code",
   "execution_count": 3,
   "id": "ce8213d1",
   "metadata": {},
   "outputs": [
    {
     "data": {
      "text/html": [
       "<div>\n",
       "<style scoped>\n",
       "    .dataframe tbody tr th:only-of-type {\n",
       "        vertical-align: middle;\n",
       "    }\n",
       "\n",
       "    .dataframe tbody tr th {\n",
       "        vertical-align: top;\n",
       "    }\n",
       "\n",
       "    .dataframe thead th {\n",
       "        text-align: right;\n",
       "    }\n",
       "</style>\n",
       "<table border=\"1\" class=\"dataframe\">\n",
       "  <thead>\n",
       "    <tr style=\"text-align: right;\">\n",
       "      <th></th>\n",
       "      <th>popularity</th>\n",
       "      <th>danceability</th>\n",
       "      <th>energy</th>\n",
       "      <th>key</th>\n",
       "      <th>loudness</th>\n",
       "      <th>mode</th>\n",
       "      <th>speechiness</th>\n",
       "      <th>acousticness</th>\n",
       "      <th>instrumentalness</th>\n",
       "      <th>liveness</th>\n",
       "      <th>valence</th>\n",
       "      <th>tempo</th>\n",
       "      <th>time_signature</th>\n",
       "      <th>duration_ms</th>\n",
       "    </tr>\n",
       "  </thead>\n",
       "  <tbody>\n",
       "    <tr>\n",
       "      <th>count</th>\n",
       "      <td>26752.000000</td>\n",
       "      <td>26752.000000</td>\n",
       "      <td>26752.000000</td>\n",
       "      <td>26752.000000</td>\n",
       "      <td>26752.000000</td>\n",
       "      <td>26752.000000</td>\n",
       "      <td>26752.000000</td>\n",
       "      <td>26752.000000</td>\n",
       "      <td>26752.000000</td>\n",
       "      <td>26752.000000</td>\n",
       "      <td>26752.000000</td>\n",
       "      <td>26752.000000</td>\n",
       "      <td>26752.000000</td>\n",
       "      <td>2.675200e+04</td>\n",
       "    </tr>\n",
       "    <tr>\n",
       "      <th>mean</th>\n",
       "      <td>46.603544</td>\n",
       "      <td>0.551091</td>\n",
       "      <td>0.698948</td>\n",
       "      <td>5.299604</td>\n",
       "      <td>-7.231568</td>\n",
       "      <td>0.623131</td>\n",
       "      <td>0.085210</td>\n",
       "      <td>0.186927</td>\n",
       "      <td>0.110631</td>\n",
       "      <td>0.198308</td>\n",
       "      <td>0.493760</td>\n",
       "      <td>123.791402</td>\n",
       "      <td>3.936379</td>\n",
       "      <td>2.316677e+05</td>\n",
       "    </tr>\n",
       "    <tr>\n",
       "      <th>std</th>\n",
       "      <td>18.890180</td>\n",
       "      <td>0.166505</td>\n",
       "      <td>0.210743</td>\n",
       "      <td>3.566726</td>\n",
       "      <td>3.312386</td>\n",
       "      <td>0.484611</td>\n",
       "      <td>0.087807</td>\n",
       "      <td>0.265412</td>\n",
       "      <td>0.246161</td>\n",
       "      <td>0.156232</td>\n",
       "      <td>0.233485</td>\n",
       "      <td>29.365056</td>\n",
       "      <td>0.334642</td>\n",
       "      <td>7.955645e+04</td>\n",
       "    </tr>\n",
       "    <tr>\n",
       "      <th>min</th>\n",
       "      <td>0.000000</td>\n",
       "      <td>0.000000</td>\n",
       "      <td>0.000020</td>\n",
       "      <td>0.000000</td>\n",
       "      <td>-34.825000</td>\n",
       "      <td>0.000000</td>\n",
       "      <td>0.000000</td>\n",
       "      <td>0.000000</td>\n",
       "      <td>0.000000</td>\n",
       "      <td>0.011900</td>\n",
       "      <td>0.000000</td>\n",
       "      <td>0.000000</td>\n",
       "      <td>0.000000</td>\n",
       "      <td>1.379300e+04</td>\n",
       "    </tr>\n",
       "    <tr>\n",
       "      <th>25%</th>\n",
       "      <td>34.000000</td>\n",
       "      <td>0.439000</td>\n",
       "      <td>0.558000</td>\n",
       "      <td>2.000000</td>\n",
       "      <td>-8.802000</td>\n",
       "      <td>0.000000</td>\n",
       "      <td>0.035800</td>\n",
       "      <td>0.002370</td>\n",
       "      <td>0.000000</td>\n",
       "      <td>0.097300</td>\n",
       "      <td>0.313000</td>\n",
       "      <td>100.017000</td>\n",
       "      <td>4.000000</td>\n",
       "      <td>1.862860e+05</td>\n",
       "    </tr>\n",
       "    <tr>\n",
       "      <th>50%</th>\n",
       "      <td>46.000000</td>\n",
       "      <td>0.550000</td>\n",
       "      <td>0.730000</td>\n",
       "      <td>5.000000</td>\n",
       "      <td>-6.599000</td>\n",
       "      <td>1.000000</td>\n",
       "      <td>0.050600</td>\n",
       "      <td>0.044450</td>\n",
       "      <td>0.000262</td>\n",
       "      <td>0.134000</td>\n",
       "      <td>0.490000</td>\n",
       "      <td>122.005000</td>\n",
       "      <td>4.000000</td>\n",
       "      <td>2.176090e+05</td>\n",
       "    </tr>\n",
       "    <tr>\n",
       "      <th>75%</th>\n",
       "      <td>60.000000</td>\n",
       "      <td>0.667000</td>\n",
       "      <td>0.877000</td>\n",
       "      <td>9.000000</td>\n",
       "      <td>-4.955000</td>\n",
       "      <td>1.000000</td>\n",
       "      <td>0.091300</td>\n",
       "      <td>0.285000</td>\n",
       "      <td>0.033400</td>\n",
       "      <td>0.267000</td>\n",
       "      <td>0.673000</td>\n",
       "      <td>143.373000</td>\n",
       "      <td>4.000000</td>\n",
       "      <td>2.582270e+05</td>\n",
       "    </tr>\n",
       "    <tr>\n",
       "      <th>max</th>\n",
       "      <td>100.000000</td>\n",
       "      <td>0.989000</td>\n",
       "      <td>1.000000</td>\n",
       "      <td>11.000000</td>\n",
       "      <td>1.355000</td>\n",
       "      <td>1.000000</td>\n",
       "      <td>0.960000</td>\n",
       "      <td>0.996000</td>\n",
       "      <td>0.996000</td>\n",
       "      <td>0.992000</td>\n",
       "      <td>0.986000</td>\n",
       "      <td>249.438000</td>\n",
       "      <td>5.000000</td>\n",
       "      <td>1.561133e+06</td>\n",
       "    </tr>\n",
       "  </tbody>\n",
       "</table>\n",
       "</div>"
      ],
      "text/plain": [
       "         popularity  danceability        energy           key      loudness  \\\n",
       "count  26752.000000  26752.000000  26752.000000  26752.000000  26752.000000   \n",
       "mean      46.603544      0.551091      0.698948      5.299604     -7.231568   \n",
       "std       18.890180      0.166505      0.210743      3.566726      3.312386   \n",
       "min        0.000000      0.000000      0.000020      0.000000    -34.825000   \n",
       "25%       34.000000      0.439000      0.558000      2.000000     -8.802000   \n",
       "50%       46.000000      0.550000      0.730000      5.000000     -6.599000   \n",
       "75%       60.000000      0.667000      0.877000      9.000000     -4.955000   \n",
       "max      100.000000      0.989000      1.000000     11.000000      1.355000   \n",
       "\n",
       "               mode   speechiness  acousticness  instrumentalness  \\\n",
       "count  26752.000000  26752.000000  26752.000000      26752.000000   \n",
       "mean       0.623131      0.085210      0.186927          0.110631   \n",
       "std        0.484611      0.087807      0.265412          0.246161   \n",
       "min        0.000000      0.000000      0.000000          0.000000   \n",
       "25%        0.000000      0.035800      0.002370          0.000000   \n",
       "50%        1.000000      0.050600      0.044450          0.000262   \n",
       "75%        1.000000      0.091300      0.285000          0.033400   \n",
       "max        1.000000      0.960000      0.996000          0.996000   \n",
       "\n",
       "           liveness       valence         tempo  time_signature   duration_ms  \n",
       "count  26752.000000  26752.000000  26752.000000    26752.000000  2.675200e+04  \n",
       "mean       0.198308      0.493760    123.791402        3.936379  2.316677e+05  \n",
       "std        0.156232      0.233485     29.365056        0.334642  7.955645e+04  \n",
       "min        0.011900      0.000000      0.000000        0.000000  1.379300e+04  \n",
       "25%        0.097300      0.313000    100.017000        4.000000  1.862860e+05  \n",
       "50%        0.134000      0.490000    122.005000        4.000000  2.176090e+05  \n",
       "75%        0.267000      0.673000    143.373000        4.000000  2.582270e+05  \n",
       "max        0.992000      0.986000    249.438000        5.000000  1.561133e+06  "
      ]
     },
     "execution_count": 3,
     "metadata": {},
     "output_type": "execute_result"
    }
   ],
   "source": [
    "# Visualize basic info\n",
    "df.describe()"
   ]
  },
  {
   "cell_type": "code",
   "execution_count": 4,
   "id": "e468456d",
   "metadata": {},
   "outputs": [
    {
     "data": {
      "text/plain": [
       "popularity          0\n",
       "danceability        0\n",
       "energy              0\n",
       "key                 0\n",
       "loudness            0\n",
       "mode                0\n",
       "speechiness         0\n",
       "acousticness        0\n",
       "instrumentalness    0\n",
       "liveness            0\n",
       "valence             0\n",
       "tempo               0\n",
       "category            0\n",
       "time_signature      0\n",
       "duration_ms         0\n",
       "dtype: int64"
      ]
     },
     "execution_count": 4,
     "metadata": {},
     "output_type": "execute_result"
    }
   ],
   "source": [
    "# Check for missing values\n",
    "df.isna().sum()"
   ]
  },
  {
   "cell_type": "code",
   "execution_count": 5,
   "id": "f27083a3",
   "metadata": {},
   "outputs": [
    {
     "name": "stdout",
     "output_type": "stream",
     "text": [
      "Numeric columns: ['popularity' 'danceability' 'energy' 'key' 'loudness' 'mode'\n",
      " 'speechiness' 'acousticness' 'instrumentalness' 'liveness' 'valence'\n",
      " 'tempo' 'time_signature' 'duration_ms']\n",
      "Categorical columns: ['category']\n"
     ]
    }
   ],
   "source": [
    "# Get numeric and categorical columns\n",
    "numeric_columns = df.dtypes[(df.dtypes == 'float64') | (df.dtypes == 'int64')].index.values\n",
    "categorical_columns = df.dtypes[df.dtypes == 'object'].index.values\n",
    "print(f\"Numeric columns: {numeric_columns}\")\n",
    "print(f\"Categorical columns: {categorical_columns}\")"
   ]
  },
  {
   "cell_type": "markdown",
   "id": "a3c9c6a3",
   "metadata": {},
   "source": [
    "# Train, validation, test split"
   ]
  },
  {
   "cell_type": "code",
   "execution_count": 6,
   "id": "32ec1e36",
   "metadata": {},
   "outputs": [
    {
     "name": "stdout",
     "output_type": "stream",
     "text": [
      "rock           8747\n",
      "indie          4338\n",
      "pop            3831\n",
      "metal          3045\n",
      "hiphop         2581\n",
      "alternative    2160\n",
      "blues          2050\n",
      "Name: category, dtype: int64\n"
     ]
    },
    {
     "data": {
      "text/plain": [
       "1    13952\n",
       "0    12800\n",
       "Name: category, dtype: int64"
      ]
     },
     "execution_count": 6,
     "metadata": {},
     "output_type": "execute_result"
    }
   ],
   "source": [
    "# Extract target column\n",
    "target_column = 'category'\n",
    "#y = df.pop(target_column)\n",
    "print(df[target_column].value_counts())\n",
    "remapping_to_numbers = {\"rock\" : 0, \n",
    "                        \"indie\" : 1, \n",
    "                        \"pop\": 2, \n",
    "                        \"metal\" : 3, \n",
    "                        \"hiphop\": 4,\n",
    "                        \"alternative\": 5,\n",
    "                        \"blues\": 6}\n",
    "\n",
    "remapping_to_numbers = {\"rock\" : 1, \n",
    "                        \"indie\" : 0, \n",
    "                        \"pop\": 0, \n",
    "                        \"metal\" : 1, \n",
    "                        \"hiphop\": 0,\n",
    "                        \"alternative\": 1,\n",
    "                        \"blues\": 0}\n",
    "\n",
    "df[target_column]=df[target_column].replace(remapping_to_numbers)\n",
    "df[target_column].value_counts()"
   ]
  },
  {
   "cell_type": "code",
   "execution_count": 7,
   "id": "34e39846",
   "metadata": {},
   "outputs": [],
   "source": [
    "# Splitting the dataset 60%-20%-20% (train-val-test)\n",
    "#df_train_val, df_test, y_train_val, y_test = train_test_split(df, y, test_size = 0.2, random_state=1)\n",
    "#df_train, df_val, y_train, y_val = train_test_split(df_train_val, y_train_val, test_size = 0.25, random_state=1)\n",
    "\n",
    "df_train_val, df_test = train_test_split(df, test_size = 0.2, random_state=1)\n",
    "df_train, df_val = train_test_split(df_train_val, test_size = 0.25, random_state=1)"
   ]
  },
  {
   "cell_type": "markdown",
   "id": "d2256f13",
   "metadata": {},
   "source": [
    "# Initial feature selection (based on feature distribution)"
   ]
  },
  {
   "cell_type": "code",
   "execution_count": 8,
   "id": "66a30d6b",
   "metadata": {},
   "outputs": [],
   "source": [
    "# Select features\n",
    "selected_columns = ['danceability',\n",
    "                    'energy',\n",
    "                    target_column]\n",
    "\n",
    "df_train = df_train[selected_columns]\n",
    "df_val = df_val[selected_columns]\n",
    "df_test = df_test[selected_columns]"
   ]
  },
  {
   "cell_type": "markdown",
   "id": "ba0b734a",
   "metadata": {},
   "source": [
    "# Extract target value and features"
   ]
  },
  {
   "cell_type": "code",
   "execution_count": 9,
   "id": "3b042659",
   "metadata": {},
   "outputs": [],
   "source": [
    "y_train = df_train.pop(target_column).values\n",
    "X_train = df_train.values"
   ]
  },
  {
   "cell_type": "code",
   "execution_count": 10,
   "id": "15959cdb",
   "metadata": {},
   "outputs": [],
   "source": [
    "y_val = df_val.pop(target_column).values\n",
    "X_val = df_val.values"
   ]
  },
  {
   "cell_type": "code",
   "execution_count": 11,
   "id": "137aeb41",
   "metadata": {},
   "outputs": [],
   "source": [
    "y_test = df_test.pop(target_column).values\n",
    "X_test = df_test.values"
   ]
  },
  {
   "cell_type": "markdown",
   "id": "074eab8d",
   "metadata": {},
   "source": [
    "# Train final model"
   ]
  },
  {
   "cell_type": "code",
   "execution_count": 12,
   "id": "6a493ce6",
   "metadata": {
    "scrolled": false
   },
   "outputs": [
    {
     "name": "stdout",
     "output_type": "stream",
     "text": [
      "[0]\ttrain-auc:0.76878\teval-auc:0.76542\n",
      "[1]\ttrain-auc:0.77010\teval-auc:0.76721\n",
      "[2]\ttrain-auc:0.77479\teval-auc:0.77063\n",
      "[3]\ttrain-auc:0.77605\teval-auc:0.77127\n",
      "[4]\ttrain-auc:0.77790\teval-auc:0.77304\n",
      "[5]\ttrain-auc:0.77916\teval-auc:0.77471\n",
      "[6]\ttrain-auc:0.77979\teval-auc:0.77484\n",
      "[7]\ttrain-auc:0.77985\teval-auc:0.77550\n",
      "[8]\ttrain-auc:0.77975\teval-auc:0.77507\n",
      "[9]\ttrain-auc:0.78105\teval-auc:0.77623\n",
      "[10]\ttrain-auc:0.78158\teval-auc:0.77720\n",
      "[11]\ttrain-auc:0.78192\teval-auc:0.77701\n",
      "[12]\ttrain-auc:0.78209\teval-auc:0.77727\n",
      "[13]\ttrain-auc:0.78226\teval-auc:0.77719\n",
      "[14]\ttrain-auc:0.78246\teval-auc:0.77720\n",
      "[15]\ttrain-auc:0.78258\teval-auc:0.77712\n",
      "[16]\ttrain-auc:0.78262\teval-auc:0.77728\n",
      "[17]\ttrain-auc:0.78293\teval-auc:0.77759\n",
      "[18]\ttrain-auc:0.78306\teval-auc:0.77760\n",
      "[19]\ttrain-auc:0.78310\teval-auc:0.77754\n",
      "[20]\ttrain-auc:0.78314\teval-auc:0.77776\n",
      "[21]\ttrain-auc:0.78333\teval-auc:0.77794\n",
      "[22]\ttrain-auc:0.78342\teval-auc:0.77806\n",
      "[23]\ttrain-auc:0.78348\teval-auc:0.77801\n",
      "[24]\ttrain-auc:0.78358\teval-auc:0.77814\n",
      "[25]\ttrain-auc:0.78374\teval-auc:0.77811\n",
      "[26]\ttrain-auc:0.78383\teval-auc:0.77827\n",
      "[27]\ttrain-auc:0.78392\teval-auc:0.77835\n",
      "[28]\ttrain-auc:0.78409\teval-auc:0.77843\n",
      "[29]\ttrain-auc:0.78411\teval-auc:0.77847\n",
      "[30]\ttrain-auc:0.78428\teval-auc:0.77855\n",
      "[31]\ttrain-auc:0.78429\teval-auc:0.77867\n",
      "[32]\ttrain-auc:0.78435\teval-auc:0.77882\n",
      "[33]\ttrain-auc:0.78439\teval-auc:0.77881\n",
      "[34]\ttrain-auc:0.78441\teval-auc:0.77888\n",
      "[35]\ttrain-auc:0.78446\teval-auc:0.77884\n",
      "[36]\ttrain-auc:0.78460\teval-auc:0.77888\n",
      "[37]\ttrain-auc:0.78470\teval-auc:0.77887\n",
      "[38]\ttrain-auc:0.78469\teval-auc:0.77891\n",
      "[39]\ttrain-auc:0.78478\teval-auc:0.77889\n",
      "[40]\ttrain-auc:0.78485\teval-auc:0.77883\n",
      "[41]\ttrain-auc:0.78497\teval-auc:0.77874\n",
      "[42]\ttrain-auc:0.78503\teval-auc:0.77890\n",
      "[43]\ttrain-auc:0.78508\teval-auc:0.77893\n",
      "[44]\ttrain-auc:0.78516\teval-auc:0.77896\n",
      "[45]\ttrain-auc:0.78521\teval-auc:0.77898\n",
      "[46]\ttrain-auc:0.78529\teval-auc:0.77894\n",
      "[47]\ttrain-auc:0.78533\teval-auc:0.77900\n",
      "[48]\ttrain-auc:0.78539\teval-auc:0.77908\n",
      "[49]\ttrain-auc:0.78540\teval-auc:0.77905\n"
     ]
    }
   ],
   "source": [
    "# Select XGB Classifier model based on the previous experiments\n",
    "xgb_params = {\n",
    "                'eta': 0.1, \n",
    "                'max_depth': 3,\n",
    "                'min_child_weight': 10,\n",
    "                'objective': 'reg:logistic',\n",
    "                'eval_metric': 'auc',\n",
    "\n",
    "                'nthread': 8,\n",
    "                'seed': 1,\n",
    "                'verbosity': 1,\n",
    "            }\n",
    "\n",
    "\n",
    "# Retrain on training and validation sets\n",
    "X_train_full = np.vstack((X_train, X_val))\n",
    "y_train_full = np.concatenate((y_train, y_val))\n",
    "dtrain_full = xgb.DMatrix(X_train_full, label=y_train_full, feature_names=None)\n",
    "dtest = xgb.DMatrix(X_test, label=y_test, feature_names=None)\n",
    "watchlist = [(dtrain_full,'train'), (dtest,'eval')]\n",
    "#watchlist = None\n",
    "xgb_classifier = xgb.train(xgb_params, dtrain_full, evals=watchlist, num_boost_round=50)"
   ]
  },
  {
   "cell_type": "code",
   "execution_count": 13,
   "id": "c01ba702",
   "metadata": {},
   "outputs": [
    {
     "name": "stdout",
     "output_type": "stream",
     "text": [
      "Training roc_auc_score: 0.7854049927041864\n",
      "Test roc_auc_score: 0.77904732822549\n"
     ]
    },
    {
     "data": {
      "image/png": "[encoded data removed]",
      "text/plain": [
       "<Figure size 640x480 with 1 Axes>"
      ]
     },
     "metadata": {},
     "output_type": "display_data"
    }
   ],
   "source": [
    "# Evaluation on the training set\n",
    "y_pred_train_full = xgb_classifier.predict(dtrain_full)\n",
    "fpr_train_full, tpr_train_full, thresholds_test = roc_curve(y_train_full, y_pred_train_full)\n",
    "print(f\"Training roc_auc_score: {roc_auc_score(y_train_full, y_pred_train_full)}\")\n",
    "\n",
    "# Evaluation on  the test set\n",
    "y_pred_test = xgb_classifier.predict(dtest)\n",
    "fpr_test, tpr_test, thresholds_test = roc_curve(y_test, y_pred_test)\n",
    "print(f\"Test roc_auc_score: {roc_auc_score(y_test, y_pred_test)}\")\n",
    "\n",
    "# Plotting ROCs\n",
    "plt.plot(fpr_train_full, tpr_train_full, color='blue', label=\"final model on full training set\")\n",
    "plt.plot(fpr_test, tpr_test, color='green', label=\"final model on test set\")\n",
    "\n",
    "plt.plot([0, 1], [0, 1], color='black', label=\"random model\")\n",
    "plt.plot([0,0,1], [0,1,1], color='red', label=\"ideal model\")\n",
    "plt.xlabel(\"FPR\")\n",
    "plt.ylabel(\"TPR\")\n",
    "plt.title(\"ROC for the final selected model\")\n",
    "plt.legend()\n",
    "plt.show()"
   ]
  },
  {
   "cell_type": "markdown",
   "id": "25462d82",
   "metadata": {},
   "source": [
    "# Export model using BentoML"
   ]
  },
  {
   "cell_type": "code",
   "execution_count": 14,
   "id": "ef58406c",
   "metadata": {},
   "outputs": [
    {
     "data": {
      "text/plain": [
       "Model(tag=\"rock_alt_metal_song_genre_model:brwfj2c6c2ukvjgr\", path=\"/Users/dg/bentoml/models/rock_alt_metal_song_genre_model/brwfj2c6c2ukvjgr/\")"
      ]
     },
     "execution_count": 14,
     "metadata": {},
     "output_type": "execute_result"
    }
   ],
   "source": [
    "# Export model to BentoML\n",
    "model = xgb_classifier\n",
    "bentoml.xgboost.save_model('rock_alt_metal_song_genre_model', model, signatures={\"predict\": {\"batchable\": True}})"
   ]
  },
  {
   "cell_type": "code",
   "execution_count": 15,
   "id": "384fc3c1",
   "metadata": {},
   "outputs": [
    {
     "name": "stdout",
     "output_type": "stream",
     "text": [
      "Predicted value: [0.4630461], expected value: 0\n",
      "Predicted value: [0.3117444], expected value: 0\n"
     ]
    }
   ],
   "source": [
    "# Check the export by importing the model\n",
    "booster = bentoml.xgboost.load_model(\"rock_alt_metal_song_genre_model:latest\")\n",
    "\n",
    "print(f\"Predicted value: {booster.predict(xgb.DMatrix([df_test.iloc[10].values]))}, expected value: {y_test[10]}\")\n",
    "print(f\"Predicted value: {booster.predict(xgb.DMatrix([df_test.iloc[2].values]))}, expected value: {y_test[2]}\")"
   ]
  },
  {
   "cell_type": "code",
   "execution_count": 16,
   "id": "1569bffb",
   "metadata": {},
   "outputs": [
    {
     "name": "stdout",
     "output_type": "stream",
     "text": [
      "Predicted value: [0.3117444], expected value: 0\n"
     ]
    }
   ],
   "source": [
    "print(f\"Predicted value: {booster.predict(xgb.DMatrix([df_test.iloc[2].values]))}, expected value: {y_test[2]}\")"
   ]
  },
  {
   "cell_type": "markdown",
   "id": "3a4275fd",
   "metadata": {},
   "source": [
    "# Test the service"
   ]
  },
  {
   "cell_type": "code",
   "execution_count": 17,
   "id": "240dff4e",
   "metadata": {},
   "outputs": [
    {
     "name": "stdout",
     "output_type": "stream",
     "text": [
      "curl: (7) Failed to connect to 0.0.0.0 port 3000: Connection refused\n"
     ]
    }
   ],
   "source": [
    "!curl -X 'POST' 'http://0.0.0.0:3000/classify_song' -H 'accept: application/json' -H 'Content-Type: application/json' -d '{\"danceability\":0.5, \"energy\":0.5}'"
   ]
  },
  {
   "cell_type": "code",
   "execution_count": 18,
   "id": "2079d8ff",
   "metadata": {},
   "outputs": [
    {
     "name": "stdout",
     "output_type": "stream",
     "text": [
      "{\"res\":\"blues/indie/hiphop\",\"proba\":[0.4532536268234253]}"
     ]
    }
   ],
   "source": [
    "!curl -m 300 -X 'POST' 'https://songgenre2.azurewebsites.net/classify_song' -H 'accept: application/json' -H 'Content-Type: application/json' -d '{\"danceability\":0.5, \"energy\":0.5}'"
   ]
  },
  {
   "cell_type": "code",
   "execution_count": null,
   "id": "f8af6eb0",
   "metadata": {},
   "outputs": [],
   "source": []
  }
 ],
 "metadata": {
  "kernelspec": {
   "display_name": "Python 3 (ipykernel)",
   "language": "python",
   "name": "python3"
  },
  "language_info": {
   "codemirror_mode": {
    "name": "ipython",
    "version": 3
   },
   "file_extension": ".py",
   "mimetype": "text/x-python",
   "name": "python",
   "nbconvert_exporter": "python",
   "pygments_lexer": "ipython3",
   "version": "3.10.4"
  }
 },
 "nbformat": 4,
 "nbformat_minor": 5
}
