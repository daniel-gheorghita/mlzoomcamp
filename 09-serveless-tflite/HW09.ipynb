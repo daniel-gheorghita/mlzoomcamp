{
 "cells": [
  {
   "cell_type": "code",
   "execution_count": 12,
   "id": "9dfdde8b",
   "metadata": {},
   "outputs": [
    {
     "data": {
      "text/plain": [
       "'2.9.1'"
      ]
     },
     "execution_count": 12,
     "metadata": {},
     "output_type": "execute_result"
    }
   ],
   "source": [
    "from tensorflow import keras\n",
    "from tensorflow.keras.preprocessing.image import load_img\n",
    "import tensorflow as tf\n",
    "import tensorflow.lite as tflite\n",
    "import numpy as np\n",
    "tf.__version__"
   ]
  },
  {
   "cell_type": "code",
   "execution_count": 45,
   "id": "093bf9a3",
   "metadata": {},
   "outputs": [
    {
     "name": "stdout",
     "output_type": "stream",
     "text": [
      "(2, 150, 150, 3)\n"
     ]
    }
   ],
   "source": [
    "# Load test image\n",
    "x_dino = np.array(load_img(\"dino.jpg\", target_size=(150,150)), dtype=np.float32) / 255\n",
    "x_dragon = np.array(load_img(\"dragon.jpg\", target_size=(150,150)), dtype=np.float32) / 255\n",
    "X = np.array([x_dino, x_dragon])\n",
    "print(X.shape)\n",
    "classes = ['dino', 'dragon']"
   ]
  },
  {
   "cell_type": "code",
   "execution_count": 31,
   "id": "b5481321",
   "metadata": {},
   "outputs": [
    {
     "name": "stdout",
     "output_type": "stream",
     "text": [
      "1/1 [==============================] - 0s 109ms/step\n"
     ]
    },
    {
     "data": {
      "text/plain": [
       "array([[0.14251374],\n",
       "       [0.99472994]], dtype=float32)"
      ]
     },
     "execution_count": 31,
     "metadata": {},
     "output_type": "execute_result"
    }
   ],
   "source": [
    "# Load Keras model\n",
    "model = keras.models.load_model(\"dino_dragon_v1.h5\")\n",
    "model.predict(tf.convert_to_tensor(X))"
   ]
  },
  {
   "cell_type": "code",
   "execution_count": 32,
   "id": "88c99ae1",
   "metadata": {},
   "outputs": [
    {
     "name": "stderr",
     "output_type": "stream",
     "text": [
      "WARNING:absl:Found untraced functions such as _jit_compiled_convolution_op while saving (showing 1 of 1). These functions will not be directly callable after loading.\n"
     ]
    },
    {
     "name": "stdout",
     "output_type": "stream",
     "text": [
      "INFO:tensorflow:Assets written to: /var/folders/g6/svjv8tvx4xjbr97g7l2krybh0000gn/T/tmp9orzxw1i/assets\n"
     ]
    },
    {
     "name": "stderr",
     "output_type": "stream",
     "text": [
      "INFO:tensorflow:Assets written to: /var/folders/g6/svjv8tvx4xjbr97g7l2krybh0000gn/T/tmp9orzxw1i/assets\n",
      "2022-11-19 16:27:27.820036: W tensorflow/compiler/mlir/lite/python/tf_tfl_flatbuffer_helpers.cc:362] Ignored output_format.\n",
      "2022-11-19 16:27:27.820067: W tensorflow/compiler/mlir/lite/python/tf_tfl_flatbuffer_helpers.cc:365] Ignored drop_control_dependency.\n",
      "2022-11-19 16:27:27.820243: I tensorflow/cc/saved_model/reader.cc:43] Reading SavedModel from: /var/folders/g6/svjv8tvx4xjbr97g7l2krybh0000gn/T/tmp9orzxw1i\n",
      "2022-11-19 16:27:27.822717: I tensorflow/cc/saved_model/reader.cc:81] Reading meta graph with tags { serve }\n",
      "2022-11-19 16:27:27.822743: I tensorflow/cc/saved_model/reader.cc:122] Reading SavedModel debug info (if present) from: /var/folders/g6/svjv8tvx4xjbr97g7l2krybh0000gn/T/tmp9orzxw1i\n",
      "2022-11-19 16:27:27.831359: I tensorflow/cc/saved_model/loader.cc:228] Restoring SavedModel bundle.\n",
      "2022-11-19 16:27:28.080973: I tensorflow/cc/saved_model/loader.cc:212] Running initialization op on SavedModel bundle at path: /var/folders/g6/svjv8tvx4xjbr97g7l2krybh0000gn/T/tmp9orzxw1i\n",
      "2022-11-19 16:27:28.112651: I tensorflow/cc/saved_model/loader.cc:301] SavedModel load for tags { serve }; Status: success: OK. Took 292405 microseconds.\n"
     ]
    }
   ],
   "source": [
    "# Convert Keras model to TF Lite\n",
    "keras_to_tflite_converter = tflite.TFLiteConverter.from_keras_model(model)\n",
    "tflite_model = keras_to_tflite_converter.convert()\n",
    "\n",
    "# Save th TF Lite model to file\n",
    "with open(\"dino_dragon_v1.tflite\",\"wb\") as tflite_out:\n",
    "    tflite_out.write(tflite_model)"
   ]
  },
  {
   "cell_type": "code",
   "execution_count": 33,
   "id": "7da230c9",
   "metadata": {},
   "outputs": [
    {
     "name": "stdout",
     "output_type": "stream",
     "text": [
      "tflite input details:  [{'name': 'serving_default_input_2:0', 'index': 0, 'shape': array([  1, 150, 150,   3], dtype=int32), 'shape_signature': array([ -1, 150, 150,   3], dtype=int32), 'dtype': <class 'numpy.float32'>, 'quantization': (0.0, 0), 'quantization_parameters': {'scales': array([], dtype=float32), 'zero_points': array([], dtype=int32), 'quantized_dimension': 0}, 'sparsity_parameters': {}}]\n",
      "tflite output details:  [{'name': 'StatefulPartitionedCall:0', 'index': 13, 'shape': array([1, 1], dtype=int32), 'shape_signature': array([-1,  1], dtype=int32), 'dtype': <class 'numpy.float32'>, 'quantization': (0.0, 0), 'quantization_parameters': {'scales': array([], dtype=float32), 'zero_points': array([], dtype=int32), 'quantized_dimension': 0}, 'sparsity_parameters': {}}]\n"
     ]
    },
    {
     "name": "stderr",
     "output_type": "stream",
     "text": [
      "INFO: Applying 1 TensorFlow Lite delegate(s) lazily.\n"
     ]
    }
   ],
   "source": [
    "# Open the TF Lite model\n",
    "tflite_interpreter = tflite.Interpreter(\"dino_dragon_v1.tflite\")\n",
    "tflite_interpreter.allocate_tensors()\n",
    "print(\"tflite input details: \", tflite_interpreter.get_input_details())\n",
    "print(\"tflite output details: \", tflite_interpreter.get_output_details())\n",
    "input_index = tflite_interpreter.get_input_details()[0][\"index\"]\n",
    "output_index = tflite_interpreter.get_output_details()[0][\"index\"]"
   ]
  },
  {
   "cell_type": "code",
   "execution_count": 55,
   "id": "77aca8e7",
   "metadata": {},
   "outputs": [],
   "source": [
    "# Set input to the TF Lite model\n",
    "tflite_interpreter.set_tensor(input_index, [X[0]])"
   ]
  },
  {
   "cell_type": "code",
   "execution_count": 56,
   "id": "66515e6f",
   "metadata": {},
   "outputs": [],
   "source": [
    "# Predict\n",
    "tflite_interpreter.invoke()"
   ]
  },
  {
   "cell_type": "code",
   "execution_count": 57,
   "id": "67924a9b",
   "metadata": {},
   "outputs": [
    {
     "name": "stdout",
     "output_type": "stream",
     "text": [
      "0\n",
      "dino\n"
     ]
    }
   ],
   "source": [
    "# Get prediction output\n",
    "pred = tflite_interpreter.get_tensor(output_index)\n",
    "print(np.round(pred[0][0]).astype(np.uint8))\n",
    "print(classes[np.round(pred[0][0]).astype(np.uint8)])"
   ]
  },
  {
   "cell_type": "markdown",
   "id": "a8e5fd75",
   "metadata": {},
   "source": [
    "# TF Lite prediction without TF/Keras dependencies"
   ]
  },
  {
   "cell_type": "code",
   "execution_count": 6,
   "id": "9280448a",
   "metadata": {},
   "outputs": [],
   "source": [
    "from PIL import Image\n",
    "import tensorflow.lite as tflite\n",
    "import requests\n",
    "from io import BytesIO\n",
    "import numpy as np"
   ]
  },
  {
   "cell_type": "code",
   "execution_count": 7,
   "id": "eaee91fa",
   "metadata": {},
   "outputs": [],
   "source": [
    "classes = ['dino', 'dragon']"
   ]
  },
  {
   "cell_type": "code",
   "execution_count": 8,
   "id": "43f37e9c",
   "metadata": {},
   "outputs": [],
   "source": [
    "def preprocess_input(x):\n",
    "    x /= 255\n",
    "    return x\n",
    "\n",
    "def image_from_url(url):\n",
    "    response = requests.get(url)\n",
    "    img = Image.open(BytesIO(response.content))\n",
    "    img = img.resize((150,150), Image.Resampling.NEAREST)\n",
    "    return img\n",
    "\n",
    "def image_from_file(filepath):\n",
    "    with Image.open(filepath) as img:\n",
    "        img = img.resize((150,150), Image.Resampling.NEAREST)\n",
    "    return img"
   ]
  },
  {
   "cell_type": "code",
   "execution_count": 9,
   "id": "53a94cb2",
   "metadata": {},
   "outputs": [
    {
     "data": {
      "image/png": "[encoded data removed]",
      "text/plain": [
       "<PIL.Image.Image image mode=RGB size=150x150>"
      ]
     },
     "execution_count": 9,
     "metadata": {},
     "output_type": "execute_result"
    }
   ],
   "source": [
    "img_url = image_from_url(\"https://i.natgeofe.com/n/9b87dda3-9946-4a1c-a97f-c21f73ced888/Meraxes-CREDIT-Carlos-Papolio_square.jpg\")\n",
    "img_dino = image_from_file(\"dino.jpg\")\n",
    "img_dragon = image_from_file(\"dragon.jpg\")\n",
    "img_url"
   ]
  },
  {
   "cell_type": "code",
   "execution_count": 10,
   "id": "8a83d3b5",
   "metadata": {},
   "outputs": [
    {
     "data": {
      "text/plain": [
       "3"
      ]
     },
     "execution_count": 10,
     "metadata": {},
     "output_type": "execute_result"
    }
   ],
   "source": [
    "x_url = np.array(img_url, dtype=np.float32)\n",
    "x_dino = np.array(img_dino, dtype=np.float32)\n",
    "x_dragon = np.array(img_dragon, dtype=np.float32)\n",
    "\n",
    "X = np.array([x_url, x_dino, x_dragon])\n",
    "X = preprocess_input(X)\n",
    "X.shape[0]"
   ]
  },
  {
   "cell_type": "code",
   "execution_count": 11,
   "id": "099b78af",
   "metadata": {},
   "outputs": [
    {
     "name": "stdout",
     "output_type": "stream",
     "text": [
      "[[0.51182234]\n",
      " [0.14251362]\n",
      " [0.99472994]]\n",
      "['dragon', 'dino', 'dragon']\n"
     ]
    },
    {
     "name": "stderr",
     "output_type": "stream",
     "text": [
      "INFO: Initialized TensorFlow Lite runtime.\n",
      "INFO: Applying 1 TensorFlow Lite delegate(s) lazily.\n"
     ]
    }
   ],
   "source": [
    "# Open the TF Lite model\n",
    "tflite_interpreter = tflite.Interpreter(\"dino_dragon_v1.tflite\")\n",
    "input_index = tflite_interpreter.get_input_details()[0][\"index\"]\n",
    "output_index = tflite_interpreter.get_output_details()[0][\"index\"]\n",
    "tflite_interpreter.resize_tensor_input(input_index, [X.shape[0], 150, 150, 3])\n",
    "tflite_interpreter.allocate_tensors()\n",
    "# Set input to the TF Lite model\n",
    "tflite_interpreter.set_tensor(input_index, X)\n",
    "# Predict\n",
    "tflite_interpreter.invoke()\n",
    "# Get prediction output\n",
    "pred = tflite_interpreter.get_tensor(output_index)\n",
    "print(pred)\n",
    "print([classes[np.round(prediction[0]).astype(np.uint8)] for prediction in pred])"
   ]
  },
  {
   "cell_type": "markdown",
   "id": "a511f720",
   "metadata": {},
   "source": [
    "# Testing"
   ]
  },
  {
   "cell_type": "code",
   "execution_count": 13,
   "id": "acc87c87",
   "metadata": {},
   "outputs": [],
   "source": [
    "import requests"
   ]
  },
  {
   "cell_type": "markdown",
   "id": "15978b50",
   "metadata": {},
   "source": [
    "# Actual HW09"
   ]
  },
  {
   "cell_type": "code",
   "execution_count": 14,
   "id": "9cf8a139",
   "metadata": {},
   "outputs": [
    {
     "name": "stdout",
     "output_type": "stream",
     "text": [
      "  % Total    % Received % Xferd  Average Speed   Time    Time     Time  Current\n",
      "                                 Dload  Upload   Total   Spent    Left  Speed\n",
      "  0     0    0     0    0     0      0      0 --:--:-- --:--:-- --:--:--     0\n",
      "100 85.6M  100 85.6M    0     0  7785k      0  0:00:11  0:00:11 --:--:-- 7257k\n"
     ]
    }
   ],
   "source": [
    "'''\n",
    "Download the model from here:\n",
    "\n",
    "https://github.com/SVizor42/ML_Zoomcamp/releases/download/dino-dragon-model/dino_dragon_10_0.899.h5\n",
    "'''\n",
    "!curl -LO https://github.com/SVizor42/ML_Zoomcamp/releases/download/dino-dragon-model/dino_dragon_10_0.899.h5"
   ]
  },
  {
   "cell_type": "code",
   "execution_count": 15,
   "id": "d780e1cc",
   "metadata": {},
   "outputs": [
    {
     "name": "stderr",
     "output_type": "stream",
     "text": [
      "2022-11-21 22:57:55.887647: I tensorflow/core/platform/cpu_feature_guard.cc:193] This TensorFlow binary is optimized with oneAPI Deep Neural Network Library (oneDNN) to use the following CPU instructions in performance-critical operations:  SSE4.1 SSE4.2 AVX AVX2 FMA\n",
      "To enable them in other operations, rebuild TensorFlow with the appropriate compiler flags.\n",
      "WARNING:absl:Found untraced functions such as _jit_compiled_convolution_op while saving (showing 1 of 1). These functions will not be directly callable after loading.\n"
     ]
    },
    {
     "name": "stdout",
     "output_type": "stream",
     "text": [
      "INFO:tensorflow:Assets written to: /var/folders/g6/svjv8tvx4xjbr97g7l2krybh0000gn/T/tmpitqer2zx/assets\n"
     ]
    },
    {
     "name": "stderr",
     "output_type": "stream",
     "text": [
      "INFO:tensorflow:Assets written to: /var/folders/g6/svjv8tvx4xjbr97g7l2krybh0000gn/T/tmpitqer2zx/assets\n",
      "2022-11-21 22:58:01.926759: W tensorflow/compiler/mlir/lite/python/tf_tfl_flatbuffer_helpers.cc:362] Ignored output_format.\n",
      "2022-11-21 22:58:01.926790: W tensorflow/compiler/mlir/lite/python/tf_tfl_flatbuffer_helpers.cc:365] Ignored drop_control_dependency.\n",
      "2022-11-21 22:58:01.935244: I tensorflow/cc/saved_model/reader.cc:43] Reading SavedModel from: /var/folders/g6/svjv8tvx4xjbr97g7l2krybh0000gn/T/tmpitqer2zx\n",
      "2022-11-21 22:58:01.942122: I tensorflow/cc/saved_model/reader.cc:81] Reading meta graph with tags { serve }\n",
      "2022-11-21 22:58:01.942190: I tensorflow/cc/saved_model/reader.cc:122] Reading SavedModel debug info (if present) from: /var/folders/g6/svjv8tvx4xjbr97g7l2krybh0000gn/T/tmpitqer2zx\n",
      "2022-11-21 22:58:01.959669: I tensorflow/compiler/mlir/mlir_graph_optimization_pass.cc:354] MLIR V1 optimization pass is not enabled\n",
      "2022-11-21 22:58:01.973007: I tensorflow/cc/saved_model/loader.cc:228] Restoring SavedModel bundle.\n",
      "2022-11-21 22:58:02.555602: I tensorflow/cc/saved_model/loader.cc:212] Running initialization op on SavedModel bundle at path: /var/folders/g6/svjv8tvx4xjbr97g7l2krybh0000gn/T/tmpitqer2zx\n",
      "2022-11-21 22:58:02.604792: I tensorflow/cc/saved_model/loader.cc:301] SavedModel load for tags { serve }; Status: success: OK. Took 667643 microseconds.\n",
      "2022-11-21 22:58:02.878098: I tensorflow/compiler/mlir/tensorflow/utils/dump_mlir_util.cc:263] disabling MLIR crash reproducer, set env var `MLIR_CRASH_REPRODUCER_DIRECTORY` to enable.\n"
     ]
    },
    {
     "name": "stdout",
     "output_type": "stream",
     "text": [
      "total 438680\n",
      "drwxr-xr-x  14 dg  staff   448B Nov 21 22:56 \u001b[34m.\u001b[m\u001b[m\n",
      "drwxr-xr-x  17 dg  staff   544B Nov 19 20:29 \u001b[34m..\u001b[m\u001b[m\n",
      "drwxr-xr-x   3 dg  staff    96B Nov 18 23:31 \u001b[34m.ipynb_checkpoints\u001b[m\u001b[m\n",
      "-rw-r--r--   1 dg  staff   358B Nov 20 16:23 Dockerfile\n",
      "-rw-r--r--   1 dg  staff    73K Nov 21 22:56 HW09.ipynb\n",
      "drwxr-xr-x   5 dg  staff   160B Nov 19 21:44 \u001b[34m__pycache__\u001b[m\u001b[m\n",
      "-rw-r--r--   1 dg  staff   182B Nov 20 17:43 aws_ecr\n",
      "-rw-r--r--   1 dg  staff    64K Nov 19 16:19 dino.jpg\n",
      "-rw-r--r--   1 dg  staff    86M Nov 21 22:55 dino_dragon_10_0.899.h5\n",
      "-rw-r--r--   1 dg  staff    86M Nov 19 00:06 dino_dragon_v1.h5\n",
      "-rw-r--r--   1 dg  staff    43M Nov 21 22:58 dino_dragon_v1.tflite\n",
      "-rw-r--r--   1 dg  staff    55K Nov 19 16:19 dragon.jpg\n",
      "-rw-r--r--   1 dg  staff   2.2K Nov 20 16:28 lambda_function.py\n",
      "drwxr-xr-x   4 dg  staff   128B Nov 19 22:02 \u001b[34mtflite_build\u001b[m\u001b[m\n"
     ]
    }
   ],
   "source": [
    "from tensorflow import keras\n",
    "import tensorflow.lite as tflite\n",
    "'''\n",
    "Question 1\n",
    "\n",
    "Now convert this model from Keras to TF-Lite format.\n",
    "\n",
    "What's the size of the converted model?\n",
    "\n",
    "    21 Mb\n",
    "    43 Mb\n",
    "    80 Mb\n",
    "    164 Mb\n",
    "'''\n",
    "model = keras.models.load_model(\"dino_dragon_10_0.899.h5\")\n",
    "# Convert Keras model to TF Lite\n",
    "keras_to_tflite_converter = tflite.TFLiteConverter.from_keras_model(model)\n",
    "tflite_model = keras_to_tflite_converter.convert()\n",
    "\n",
    "# Save th TF Lite model to file\n",
    "with open(\"dino_dragon_v1.tflite\",\"wb\") as tflite_out:\n",
    "    tflite_out.write(tflite_model)\n",
    "\n",
    "!ls -hal\n",
    "# A: 43MB"
   ]
  },
  {
   "cell_type": "code",
   "execution_count": 16,
   "id": "4a5a0a33",
   "metadata": {},
   "outputs": [
    {
     "name": "stdout",
     "output_type": "stream",
     "text": [
      "13\n"
     ]
    }
   ],
   "source": [
    "'''\n",
    "Question 2\n",
    "\n",
    "To be able to use this model, we need to know the index of the input and the index of the output.\n",
    "\n",
    "What's the output index for this model?\n",
    "\n",
    "    3\n",
    "    7\n",
    "    13\n",
    "    24\n",
    "'''\n",
    "# Open the TF Lite model\n",
    "tflite_interpreter = tflite.Interpreter(\"dino_dragon_v1.tflite\")\n",
    "input_index = tflite_interpreter.get_input_details()[0][\"index\"]\n",
    "output_index = tflite_interpreter.get_output_details()[0][\"index\"]\n",
    "print(output_index)\n",
    "#A: 13"
   ]
  },
  {
   "cell_type": "code",
   "execution_count": 19,
   "id": "4aaf16d1",
   "metadata": {},
   "outputs": [
    {
     "name": "stderr",
     "output_type": "stream",
     "text": [
      "/var/folders/g6/svjv8tvx4xjbr97g7l2krybh0000gn/T/ipykernel_69650/3813737804.py:17: DeprecationWarning: NEAREST is deprecated and will be removed in Pillow 10 (2023-07-01). Use Resampling.NEAREST or Dither.NONE instead.\n",
      "  img = img.resize(target_size, Image.NEAREST)\n"
     ]
    },
    {
     "data": {
      "image/png": "[encoded data removed]",
      "text/plain": [
       "<PIL.Image.Image image mode=RGB size=150x150>"
      ]
     },
     "execution_count": 19,
     "metadata": {},
     "output_type": "execute_result"
    }
   ],
   "source": [
    "from io import BytesIO\n",
    "from urllib import request\n",
    "\n",
    "from PIL import Image\n",
    "\n",
    "def download_image(url):\n",
    "    with request.urlopen(url) as resp:\n",
    "        buffer = resp.read()\n",
    "    stream = BytesIO(buffer)\n",
    "    img = Image.open(stream)\n",
    "    return img\n",
    "\n",
    "\n",
    "def prepare_image(img, target_size):\n",
    "    if img.mode != 'RGB':\n",
    "        img = img.convert('RGB')\n",
    "    img = img.resize(target_size, Image.NEAREST)\n",
    "    return img\n",
    "\n",
    "hw_url = \"https://upload.wikimedia.org/wikipedia/commons/thumb/d/df/Smaug_par_David_Demaret.jpg/1280px-Smaug_par_David_Demaret.jpg\"\n",
    "img = download_image(hw_url)\n",
    "img = prepare_image(img, (150,150))\n",
    "img"
   ]
  },
  {
   "cell_type": "code",
   "execution_count": 23,
   "id": "a24ae6a5",
   "metadata": {},
   "outputs": [
    {
     "name": "stdout",
     "output_type": "stream",
     "text": [
      "(150, 150, 3)\n",
      "0.5529412\n"
     ]
    }
   ],
   "source": [
    "'''\n",
    "Question 3\n",
    "\n",
    "Now we need to turn the image into numpy array and pre-process it.\n",
    "\n",
    "    Tip: Check the previous homework. What was the pre-processing we did there?\n",
    "\n",
    "After the pre-processing, what's the value in the first pixel, the R channel?\n",
    "\n",
    "    0.3353411\n",
    "    0.5529412\n",
    "    0.7458824\n",
    "    0.9654902\n",
    "'''\n",
    "img_array = np.array(img, dtype=np.float32)\n",
    "img_array = img_array / 255\n",
    "print(img_array.shape)\n",
    "print(img_array[0,0,0])\n",
    "# A: 0.5529412"
   ]
  },
  {
   "cell_type": "code",
   "execution_count": 25,
   "id": "fb8584bd",
   "metadata": {},
   "outputs": [
    {
     "name": "stdout",
     "output_type": "stream",
     "text": [
      "[[0.8244865]]\n",
      "['dragon']\n"
     ]
    }
   ],
   "source": [
    "'''\n",
    "Question 4\n",
    "\n",
    "Now let's apply this model to this image. What's the output of the model?\n",
    "\n",
    "    0.17049132\n",
    "    0.39009996\n",
    "    0.60146114\n",
    "    0.82448614\n",
    "'''\n",
    "tflite_interpreter.allocate_tensors()\n",
    "# Set input to the TF Lite model\n",
    "tflite_interpreter.set_tensor(input_index, [img_array])\n",
    "# Predict\n",
    "tflite_interpreter.invoke()\n",
    "# Get prediction output\n",
    "pred = tflite_interpreter.get_tensor(output_index)\n",
    "print(pred)\n",
    "print([classes[np.round(prediction[0]).astype(np.uint8)] for prediction in pred])\n",
    "# A: 0.8244865"
   ]
  },
  {
   "cell_type": "code",
   "execution_count": 26,
   "id": "d1a6de25",
   "metadata": {},
   "outputs": [
    {
     "data": {
      "text/plain": [
       "'\\nQuestion 5\\n\\nDownload the base image svizor42/zoomcamp-dino-dragon-lambda:v2. You can easily make it by using docker pull command.\\n\\nSo what\\'s the size of this base image?\\n\\n    139 Mb\\n    329 Mb\\n    639 Mb\\n    929 Mb\\n\\nYou can get this information when running docker images - it\\'ll be in the \"SIZE\" column.\\n'"
      ]
     },
     "execution_count": 26,
     "metadata": {},
     "output_type": "execute_result"
    }
   ],
   "source": [
    "'''\n",
    "Question 5\n",
    "\n",
    "Download the base image svizor42/zoomcamp-dino-dragon-lambda:v2. You can easily make it by using docker pull command.\n",
    "\n",
    "So what's the size of this base image?\n",
    "\n",
    "    139 Mb\n",
    "    329 Mb\n",
    "    639 Mb\n",
    "    929 Mb\n",
    "\n",
    "You can get this information when running docker images - it'll be in the \"SIZE\" column.\n",
    "'''\n",
    "# A:     639 Mb"
   ]
  },
  {
   "cell_type": "code",
   "execution_count": 27,
   "id": "af23a0de",
   "metadata": {},
   "outputs": [
    {
     "data": {
      "text/plain": [
       "'\\nHelpful commands:\\ndocker build -t zoomcamp-dino-dragon-lambda .\\ndocker run -p 9000:8080 zoomcamp-dino-dragon-lambda\\ncurl -XPOST \"http://localhost:9000/2015-03-31/functions/function/invocations\" -d \\'{\"url\":\"https://upload.wikimedia.org/wikipedia/en/e/e9/GodzillaEncounterModel.jpg\"}\\'\\n'"
      ]
     },
     "execution_count": 27,
     "metadata": {},
     "output_type": "execute_result"
    }
   ],
   "source": [
    "'''\n",
    "Question 6\n",
    "\n",
    "Now let's extend this docker image, install all the required libraries and add the code for lambda.\n",
    "\n",
    "You don't need to include the model in the image. It's already included. The name of the file with the model is dino-vs-dragon-v2.tflite and it's in the current workdir in the image (see the Dockerfile above for the reference).\n",
    "\n",
    "Now run the container locally.\n",
    "\n",
    "Score this image: https://upload.wikimedia.org/wikipedia/en/e/e9/GodzillaEncounterModel.jpg\n",
    "\n",
    "What's the output from the model?\n",
    "\n",
    "    0.12\n",
    "    0.32\n",
    "    0.52\n",
    "    0.72\n",
    "'''\n",
    "\n",
    "'''\n",
    "Helpful commands:\n",
    "docker build -t zoomcamp-dino-dragon-lambda .\n",
    "docker run -p 9000:8080 zoomcamp-dino-dragon-lambda\n",
    "curl -XPOST \"http://localhost:9000/2015-03-31/functions/function/invocations\" -d '{\"url\":\"https://upload.wikimedia.org/wikipedia/en/e/e9/GodzillaEncounterModel.jpg\"}'\n",
    "'''\n",
    "\n",
    "# A: 0.31950676441192627"
   ]
  },
  {
   "cell_type": "code",
   "execution_count": 29,
   "id": "5589637e",
   "metadata": {},
   "outputs": [
    {
     "data": {
      "text/plain": [
       "'\\nHelpful commands:\\nInstall awscli\\naws configure\\naws ecr create-repository --repository-name dino-dragon-image\\n\\n{\\n    \"repository\": {\\n        \"repositoryArn\": \"arn:aws:ecr:eu-central-1:751140740131:repository/dino-dragon-image\",\\n        \"registryId\": \"751140740131\",\\n        \"repositoryName\": \"dino-dragon-image\",\\n        \"repositoryUri\": \"751140740131.dkr.ecr.eu-central-1.amazonaws.com/dino-dragon-image\",\\n        \"createdAt\": 1668960598.0,\\n        \"imageTagMutability\": \"MUTABLE\",\\n        \"imageScanningConfiguration\": {\\n            \"scanOnPush\": false\\n        },\\n        \"encryptionConfiguration\": {\\n            \"encryptionType\": \"AES256\"\\n        }\\n    }\\n}\\n\\n\"repositoryUri\" is the important information here.\\n\\nLogin:\\n$(aws ecr get-login --no-include-email)\\n\\nRetag docker image\\ndocker tag dino_dragon_lambda:latest 751140740131.dkr.ecr.eu-central-1.amazonaws.com/dino-dragon-image:dino_dragon_lambda\\n\\nPush docker image to AWS ECR\\ndocker push 751140740131.dkr.ecr.eu-central-1.amazonaws.com/dino-dragon-image:dino_dragon_lambda\\n\\n'"
      ]
     },
     "execution_count": 29,
     "metadata": {},
     "output_type": "execute_result"
    }
   ],
   "source": [
    "'''\n",
    "Publishing it to AWS\n",
    "\n",
    "Now you can deploy your model to AWS!\n",
    "\n",
    "    Publish your image to ECR\n",
    "    Create a lambda function in AWS, use the ECR image\n",
    "    Give it more RAM and increase the timeout\n",
    "    Test it\n",
    "    Expose the lambda function using API Gateway\n",
    "\n",
    "This is optional and not graded.\n",
    "'''\n",
    "\n",
    "'''\n",
    "Helpful commands:\n",
    "Install awscli\n",
    "aws configure\n",
    "aws ecr create-repository --repository-name dino-dragon-image\n",
    "\n",
    "{\n",
    "    \"repository\": {\n",
    "        \"repositoryArn\": \"arn:aws:ecr:eu-central-1:751140740131:repository/dino-dragon-image\",\n",
    "        \"registryId\": \"751140740131\",\n",
    "        \"repositoryName\": \"dino-dragon-image\",\n",
    "        \"repositoryUri\": \"751140740131.dkr.ecr.eu-central-1.amazonaws.com/dino-dragon-image\",\n",
    "        \"createdAt\": 1668960598.0,\n",
    "        \"imageTagMutability\": \"MUTABLE\",\n",
    "        \"imageScanningConfiguration\": {\n",
    "            \"scanOnPush\": false\n",
    "        },\n",
    "        \"encryptionConfiguration\": {\n",
    "            \"encryptionType\": \"AES256\"\n",
    "        }\n",
    "    }\n",
    "}\n",
    "\n",
    "\"repositoryUri\" is the important information here.\n",
    "\n",
    "Login:\n",
    "$(aws ecr get-login --no-include-email)\n",
    "\n",
    "Retag docker image\n",
    "docker tag dino_dragon_lambda:latest 751140740131.dkr.ecr.eu-central-1.amazonaws.com/dino-dragon-image:dino_dragon_lambda\n",
    "\n",
    "Push docker image to AWS ECR\n",
    "docker push 751140740131.dkr.ecr.eu-central-1.amazonaws.com/dino-dragon-image:dino_dragon_lambda\n",
    "\n",
    "'''"
   ]
  },
  {
   "cell_type": "code",
   "execution_count": 30,
   "id": "1673c3a9",
   "metadata": {},
   "outputs": [
    {
     "data": {
      "text/plain": [
       "'\\nPublishing to Docker hub\\n\\nThis is just for reference, this is how we published our image to Docker hub:\\n\\ndocker build -t zoomcamp-dino-dragon-lambda .\\ndocker tag zoomcamp-dino-dragon-lambda:latest svizor42/zoomcamp-dino-dragon-lambda:v2\\ndocker push svizor42/zoomcamp-dino-dragon-lambda:v2\\n'"
      ]
     },
     "execution_count": 30,
     "metadata": {},
     "output_type": "execute_result"
    }
   ],
   "source": [
    "'''\n",
    "Publishing to Docker hub\n",
    "\n",
    "This is just for reference, this is how we published our image to Docker hub:\n",
    "\n",
    "docker build -t zoomcamp-dino-dragon-lambda .\n",
    "docker tag zoomcamp-dino-dragon-lambda:latest svizor42/zoomcamp-dino-dragon-lambda:v2\n",
    "docker push svizor42/zoomcamp-dino-dragon-lambda:v2\n",
    "'''"
   ]
  },
  {
   "cell_type": "code",
   "execution_count": null,
   "id": "026fc022",
   "metadata": {},
   "outputs": [],
   "source": []
  }
 ],
 "metadata": {
  "kernelspec": {
   "display_name": "Python 3 (ipykernel)",
   "language": "python",
   "name": "python3"
  },
  "language_info": {
   "codemirror_mode": {
    "name": "ipython",
    "version": 3
   },
   "file_extension": ".py",
   "mimetype": "text/x-python",
   "name": "python",
   "nbconvert_exporter": "python",
   "pygments_lexer": "ipython3",
   "version": "3.10.4"
  }
 },
 "nbformat": 4,
 "nbformat_minor": 5
}
